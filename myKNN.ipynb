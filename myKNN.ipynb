{
 "cells": [
  {
   "cell_type": "markdown",
   "metadata": {},
   "source": [
    "# My KNN\n"
   ]
  },
  {
   "cell_type": "code",
   "execution_count": 1,
   "metadata": {},
   "outputs": [],
   "source": [
    "# importing required libraries\n",
    "from sklearn.datasets import load_iris\n",
    "from sklearn.model_selection import train_test_split\n",
    "import operator\n",
    "import numpy as np"
   ]
  },
  {
   "cell_type": "markdown",
   "metadata": {},
   "source": [
    "# Process steps\n",
    "\n",
    "### 1. steps\n",
    "    \n",
    "    # uzaklığı bulma\n",
    "\n",
    "### 2. steps\n",
    "    # en yakın komşuları bulma\n",
    "    \n",
    "### 3. steps\n",
    "    # sınıfı tayin etme\n",
    "\n",
    "### 4.steps\n",
    "    # doğruluğu bulma\n",
    "\n"
   ]
  },
  {
   "cell_type": "code",
   "execution_count": 2,
   "metadata": {},
   "outputs": [],
   "source": [
    " class myKNN:\n",
    "        \n",
    "        \n",
    "        # distance fonksiyonu iki verinin birbirine olan uzaklığını hesaplamaktadır.\n",
    "        # bu algoritmamızın ilk işlem adımıdır.\n",
    "        def distance(self,data_1,data_2):\n",
    "            \n",
    "            length = len(data_1)\n",
    "            euclidean_distance = 0\n",
    "            i = 0\n",
    "            \n",
    "            while length > 0:\n",
    "                # burada iki verinin koordinatlarının uzaklıkları farkının karelerinin toplamını bulduk.\n",
    "                euclidean_distance += (data_1[i] - data_2[i])**2\n",
    "                i = i + 1\n",
    "                length = length - 1\n",
    "                \n",
    "            return euclidean_distance**0.5\n",
    "        \n",
    "        \n",
    "        # burası algoritmamızın ikinci işlem adımı olan belirlemiş olduğumuz k değerine göre test datamıza en yakın \n",
    "        # yakın komşu verilerini bulduğumuz kısım.\n",
    "        def closestNeighbors(self,x_train, test_data, k_neighbours):\n",
    "            \n",
    "            euclidean_distances = []\n",
    "            \n",
    "            for i in x_train:\n",
    "                # her bir train datasına olan uzaklıkları hesaplıyoruz burada\n",
    "                distance = self.distance(i,test_data)\n",
    "                # aynı zamanda indekslerini de alıyorumki sınıfını belirlerken faydası lazım.\n",
    "                euclidean_distances.append((i,distance,x_train.index(i))) \n",
    "            # burada uzaklıkları küçükten büyüğe sıralayarak en yakın komşuları bulacağız.\n",
    "            euclidean_distances.sort(key=operator.itemgetter(1))\n",
    "            #print(euclidean_distances)\n",
    "            \n",
    "            closest_neighbors = []\n",
    "            \n",
    "            while k_neighbours > 0:\n",
    "                closest_neighbors.append([euclidean_distances[k_neighbours-1][0],euclidean_distances[k_neighbours-1][2]])\n",
    "                \n",
    "                k_neighbours = k_neighbours - 1\n",
    "                \n",
    "            return closest_neighbors\n",
    "        \n",
    "        # burası algoritmamızın artık üçüncü kısmı olan test verimizin hangi sınıfa ait olduğunu tahmin ettiğimiz kısım.\n",
    "        def classDetermination(self,closest_neighbors,y_train):\n",
    "            vote = {}\n",
    "            # burada çoğunluk hangi tarafta onu tutan bir sözlükle belirlemeye çalışıyorum.\n",
    "            for i in closest_neighbors:\n",
    "                which_class = y_train[i[1]]\n",
    "                if which_class in vote:\n",
    "                    vote[which_class] += 1\n",
    "                else:\n",
    "                    vote[which_class] = 1\n",
    "            # burada en çok hangi sınıftan olduğunu bulmak için sözlüğümü value değerlerine göre\n",
    "            # büyükten küçüğe sıralıyorum ve en büyük olanı test verisinin sınıfı olarak tayin ediyorum.\n",
    "            predicted_class = sorted(vote.items(), key=operator.itemgetter(1), reverse=True)\n",
    "            \n",
    "            return predicted_class[0][0]\n",
    "        \n",
    "        \n",
    "        # burası artık algoritmamızın son adımı olan doğruluk oranını hesaplamaya çalıştığımız adım.\n",
    "        def accuracyRate(self,y_test,predicted_class):\n",
    "            number_of_correct_guess = 0\n",
    "            # doğruluk oranını tahmin ettiğimiz değerlerle test verisinin sonuçlarını karşılaştırarıp oranlayarak\n",
    "            # hesaplıyoruz.\n",
    "            for i in range(len(y_test)):\n",
    "                if y_test[i] is predicted_class[i]:\n",
    "                    number_of_correct_guess += 1\n",
    "                    \n",
    "            return (number_of_correct_guess/float(len(y_test))) * 100.0\n",
    "        \n",
    "        \n",
    "        # yukarıda yazdığımız metodlar tek bir test datasını tahmin etmek için kullanılıyor bizim tüm veriyi tahmin\n",
    "        # edip modelimizi oluşturup doğruluğunu tespit ettiğimiz kısım.\n",
    "        def modelBuilding(self,x_train,y_train,x_test,y_test,k_neighbours):\n",
    "            # her bir tahmin ettiğimiz verileri burada saklayarak genel doğruluğu hesaplamamız için.\n",
    "            predicted_class = []\n",
    "            \n",
    "            for i in x_test:\n",
    "                # test verisine en yakın komşuları buluyoruz.\n",
    "                closest_neighbors = self.closestNeighbors(x_train, i, k_neighbours)\n",
    "                # test verisinin sınıfını tayin ediyoruz.\n",
    "                predicted_value = self.classDetermination(closest_neighbors,y_train)\n",
    "                \n",
    "                predicted_class.append(predicted_value)\n",
    "            # genel doğruluk oranımızı verir.\n",
    "            accuracy = self.accuracyRate(y_test,predicted_class)\n",
    "            \n",
    "            return accuracy\n",
    "                \n",
    "            \n",
    "            \n",
    "            "
   ]
  },
  {
   "cell_type": "code",
   "execution_count": 3,
   "metadata": {},
   "outputs": [],
   "source": [
    "# Load dataset\n",
    "iris_dataset = load_iris()\n",
    "X = iris_dataset.data\n",
    "y = iris_dataset.target\n"
   ]
  },
  {
   "cell_type": "code",
   "execution_count": 4,
   "metadata": {},
   "outputs": [],
   "source": [
    "# Separation of dataset as train and test (train_test_split)\n",
    "X_train, X_test, y_train, y_test = train_test_split(X, y, test_size=.3, shuffle=True)\n",
    "\n",
    "# sklearn numpy arrayleriyle çalıştığı için normal listeye çevirmezsek indek hatası alırız mecbur listelere ihtiyacımız var.\n",
    "X_train = X_train.tolist()\n",
    "y_train = y_train.tolist()\n",
    "X_test = X_test.tolist()\n",
    "y_test = y_test.tolist()"
   ]
  },
  {
   "cell_type": "code",
   "execution_count": 5,
   "metadata": {},
   "outputs": [],
   "source": [
    "model = myKNN()\n",
    "# burada sınıfımızdan obje oluşturarak metodları kullanabilir hale geliyoruz."
   ]
  },
  {
   "cell_type": "markdown",
   "metadata": {},
   "source": [
    "# manuel hesaplama"
   ]
  },
  {
   "cell_type": "markdown",
   "metadata": {},
   "source": [
    "# Modeling for k = 1 "
   ]
  },
  {
   "cell_type": "code",
   "execution_count": 6,
   "metadata": {},
   "outputs": [],
   "source": [
    "k1 = 1"
   ]
  },
  {
   "cell_type": "code",
   "execution_count": 7,
   "metadata": {},
   "outputs": [
    {
     "data": {
      "text/plain": [
       "97.77777777777777"
      ]
     },
     "execution_count": 7,
     "metadata": {},
     "output_type": "execute_result"
    }
   ],
   "source": [
    "model.modelBuilding(X_train,y_train,X_test,y_test,k1)"
   ]
  },
  {
   "cell_type": "markdown",
   "metadata": {},
   "source": [
    "# Modeling for k = 3"
   ]
  },
  {
   "cell_type": "code",
   "execution_count": 8,
   "metadata": {},
   "outputs": [],
   "source": [
    "k2 = 3"
   ]
  },
  {
   "cell_type": "code",
   "execution_count": 9,
   "metadata": {},
   "outputs": [
    {
     "data": {
      "text/plain": [
       "100.0"
      ]
     },
     "execution_count": 9,
     "metadata": {},
     "output_type": "execute_result"
    }
   ],
   "source": [
    "model.modelBuilding(X_train,y_train,X_test,y_test,k2)"
   ]
  },
  {
   "cell_type": "markdown",
   "metadata": {},
   "source": [
    "# Modeling for k = 5"
   ]
  },
  {
   "cell_type": "code",
   "execution_count": 10,
   "metadata": {},
   "outputs": [],
   "source": [
    "k3 = 5"
   ]
  },
  {
   "cell_type": "code",
   "execution_count": 11,
   "metadata": {},
   "outputs": [
    {
     "data": {
      "text/plain": [
       "100.0"
      ]
     },
     "execution_count": 11,
     "metadata": {},
     "output_type": "execute_result"
    }
   ],
   "source": [
    "model.modelBuilding(X_train,y_train,X_test,y_test,k3)"
   ]
  },
  {
   "cell_type": "markdown",
   "metadata": {},
   "source": [
    "# My comment"
   ]
  },
  {
   "cell_type": "markdown",
   "metadata": {},
   "source": [
    "Farklı k değerlerine karşılık farklı sonuçlar elde ettiğimi fark ettim. Bunun sebebinin ise algoritma en yakın komşuların yakınlığına göre karar verdiği için farklı k değerlerinde bazı değerler normalde olması gereken değerinden farklı şekilde yorumlanıp hata oranının artmasına sebep olabilir."
   ]
  }
 ],
 "metadata": {
  "kernelspec": {
   "display_name": "Python 3",
   "language": "python",
   "name": "python3"
  },
  "language_info": {
   "codemirror_mode": {
    "name": "ipython",
    "version": 3
   },
   "file_extension": ".py",
   "mimetype": "text/x-python",
   "name": "python",
   "nbconvert_exporter": "python",
   "pygments_lexer": "ipython3",
   "version": "3.8.3"
  }
 },
 "nbformat": 4,
 "nbformat_minor": 4
}
